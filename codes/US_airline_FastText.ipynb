{
  "cells": [
    {
      "cell_type": "code",
      "execution_count": 27,
      "metadata": {
        "colab": {
          "base_uri": "https://localhost:8080/",
          "height": 363
        },
        "id": "YshPGg4vH3SX",
        "outputId": "e4cbd727-3e0c-41d9-bffb-4776b1dc9def"
      },
      "outputs": [
        {
          "output_type": "execute_result",
          "data": {
            "text/plain": [
              "  airline_sentiment                                               text\n",
              "0           neutral                @VirginAmerica What @dhepburn said.\n",
              "1          positive  @VirginAmerica plus you've added commercials t...\n",
              "2           neutral  @VirginAmerica I didn't today... Must mean I n...\n",
              "3          negative  @VirginAmerica it's really aggressive to blast...\n",
              "4          negative  @VirginAmerica and it's a really big bad thing...\n",
              "5          negative  @VirginAmerica seriously would pay $30 a fligh...\n",
              "6               NaN                                                NaN\n",
              "7          positive  @VirginAmerica yes, nearly every time I fly VX...\n",
              "8           neutral  @VirginAmerica Really missed a prime opportuni...\n",
              "9          positive    @virginamerica Well, I didn't…but NOW I DO! :-D"
            ],
            "text/html": [
              "\n",
              "  <div id=\"df-1b0651f3-e60d-4894-a635-98f9a66836cd\">\n",
              "    <div class=\"colab-df-container\">\n",
              "      <div>\n",
              "<style scoped>\n",
              "    .dataframe tbody tr th:only-of-type {\n",
              "        vertical-align: middle;\n",
              "    }\n",
              "\n",
              "    .dataframe tbody tr th {\n",
              "        vertical-align: top;\n",
              "    }\n",
              "\n",
              "    .dataframe thead th {\n",
              "        text-align: right;\n",
              "    }\n",
              "</style>\n",
              "<table border=\"1\" class=\"dataframe\">\n",
              "  <thead>\n",
              "    <tr style=\"text-align: right;\">\n",
              "      <th></th>\n",
              "      <th>airline_sentiment</th>\n",
              "      <th>text</th>\n",
              "    </tr>\n",
              "  </thead>\n",
              "  <tbody>\n",
              "    <tr>\n",
              "      <th>0</th>\n",
              "      <td>neutral</td>\n",
              "      <td>@VirginAmerica What @dhepburn said.</td>\n",
              "    </tr>\n",
              "    <tr>\n",
              "      <th>1</th>\n",
              "      <td>positive</td>\n",
              "      <td>@VirginAmerica plus you've added commercials t...</td>\n",
              "    </tr>\n",
              "    <tr>\n",
              "      <th>2</th>\n",
              "      <td>neutral</td>\n",
              "      <td>@VirginAmerica I didn't today... Must mean I n...</td>\n",
              "    </tr>\n",
              "    <tr>\n",
              "      <th>3</th>\n",
              "      <td>negative</td>\n",
              "      <td>@VirginAmerica it's really aggressive to blast...</td>\n",
              "    </tr>\n",
              "    <tr>\n",
              "      <th>4</th>\n",
              "      <td>negative</td>\n",
              "      <td>@VirginAmerica and it's a really big bad thing...</td>\n",
              "    </tr>\n",
              "    <tr>\n",
              "      <th>5</th>\n",
              "      <td>negative</td>\n",
              "      <td>@VirginAmerica seriously would pay $30 a fligh...</td>\n",
              "    </tr>\n",
              "    <tr>\n",
              "      <th>6</th>\n",
              "      <td>NaN</td>\n",
              "      <td>NaN</td>\n",
              "    </tr>\n",
              "    <tr>\n",
              "      <th>7</th>\n",
              "      <td>positive</td>\n",
              "      <td>@VirginAmerica yes, nearly every time I fly VX...</td>\n",
              "    </tr>\n",
              "    <tr>\n",
              "      <th>8</th>\n",
              "      <td>neutral</td>\n",
              "      <td>@VirginAmerica Really missed a prime opportuni...</td>\n",
              "    </tr>\n",
              "    <tr>\n",
              "      <th>9</th>\n",
              "      <td>positive</td>\n",
              "      <td>@virginamerica Well, I didn't…but NOW I DO! :-D</td>\n",
              "    </tr>\n",
              "  </tbody>\n",
              "</table>\n",
              "</div>\n",
              "      <button class=\"colab-df-convert\" onclick=\"convertToInteractive('df-1b0651f3-e60d-4894-a635-98f9a66836cd')\"\n",
              "              title=\"Convert this dataframe to an interactive table.\"\n",
              "              style=\"display:none;\">\n",
              "        \n",
              "  <svg xmlns=\"http://www.w3.org/2000/svg\" height=\"24px\"viewBox=\"0 0 24 24\"\n",
              "       width=\"24px\">\n",
              "    <path d=\"M0 0h24v24H0V0z\" fill=\"none\"/>\n",
              "    <path d=\"M18.56 5.44l.94 2.06.94-2.06 2.06-.94-2.06-.94-.94-2.06-.94 2.06-2.06.94zm-11 1L8.5 8.5l.94-2.06 2.06-.94-2.06-.94L8.5 2.5l-.94 2.06-2.06.94zm10 10l.94 2.06.94-2.06 2.06-.94-2.06-.94-.94-2.06-.94 2.06-2.06.94z\"/><path d=\"M17.41 7.96l-1.37-1.37c-.4-.4-.92-.59-1.43-.59-.52 0-1.04.2-1.43.59L10.3 9.45l-7.72 7.72c-.78.78-.78 2.05 0 2.83L4 21.41c.39.39.9.59 1.41.59.51 0 1.02-.2 1.41-.59l7.78-7.78 2.81-2.81c.8-.78.8-2.07 0-2.86zM5.41 20L4 18.59l7.72-7.72 1.47 1.35L5.41 20z\"/>\n",
              "  </svg>\n",
              "      </button>\n",
              "      \n",
              "  <style>\n",
              "    .colab-df-container {\n",
              "      display:flex;\n",
              "      flex-wrap:wrap;\n",
              "      gap: 12px;\n",
              "    }\n",
              "\n",
              "    .colab-df-convert {\n",
              "      background-color: #E8F0FE;\n",
              "      border: none;\n",
              "      border-radius: 50%;\n",
              "      cursor: pointer;\n",
              "      display: none;\n",
              "      fill: #1967D2;\n",
              "      height: 32px;\n",
              "      padding: 0 0 0 0;\n",
              "      width: 32px;\n",
              "    }\n",
              "\n",
              "    .colab-df-convert:hover {\n",
              "      background-color: #E2EBFA;\n",
              "      box-shadow: 0px 1px 2px rgba(60, 64, 67, 0.3), 0px 1px 3px 1px rgba(60, 64, 67, 0.15);\n",
              "      fill: #174EA6;\n",
              "    }\n",
              "\n",
              "    [theme=dark] .colab-df-convert {\n",
              "      background-color: #3B4455;\n",
              "      fill: #D2E3FC;\n",
              "    }\n",
              "\n",
              "    [theme=dark] .colab-df-convert:hover {\n",
              "      background-color: #434B5C;\n",
              "      box-shadow: 0px 1px 3px 1px rgba(0, 0, 0, 0.15);\n",
              "      filter: drop-shadow(0px 1px 2px rgba(0, 0, 0, 0.3));\n",
              "      fill: #FFFFFF;\n",
              "    }\n",
              "  </style>\n",
              "\n",
              "      <script>\n",
              "        const buttonEl =\n",
              "          document.querySelector('#df-1b0651f3-e60d-4894-a635-98f9a66836cd button.colab-df-convert');\n",
              "        buttonEl.style.display =\n",
              "          google.colab.kernel.accessAllowed ? 'block' : 'none';\n",
              "\n",
              "        async function convertToInteractive(key) {\n",
              "          const element = document.querySelector('#df-1b0651f3-e60d-4894-a635-98f9a66836cd');\n",
              "          const dataTable =\n",
              "            await google.colab.kernel.invokeFunction('convertToInteractive',\n",
              "                                                     [key], {});\n",
              "          if (!dataTable) return;\n",
              "\n",
              "          const docLinkHtml = 'Like what you see? Visit the ' +\n",
              "            '<a target=\"_blank\" href=https://colab.research.google.com/notebooks/data_table.ipynb>data table notebook</a>'\n",
              "            + ' to learn more about interactive tables.';\n",
              "          element.innerHTML = '';\n",
              "          dataTable['output_type'] = 'display_data';\n",
              "          await google.colab.output.renderOutput(dataTable, element);\n",
              "          const docLink = document.createElement('div');\n",
              "          docLink.innerHTML = docLinkHtml;\n",
              "          element.appendChild(docLink);\n",
              "        }\n",
              "      </script>\n",
              "    </div>\n",
              "  </div>\n",
              "  "
            ]
          },
          "metadata": {},
          "execution_count": 27
        }
      ],
      "source": [
        "import pandas as pd\n",
        "import numpy as np\n",
        "\n",
        "yelp_reviews = pd.read_csv(\"/content/Tweets.csv\", sep=\";\")\n",
        "\n",
        "yelp_reviews.head(10)\n"
      ]
    },
    {
      "cell_type": "markdown",
      "source": [
        "Nous allons simplifier notre problème en convertissant les valeurs numériques des avis en valeurs catégorielles. Cela se fera en ajoutant une nouvelle colonne, reviews_score, à notre ensemble de données. Si l'avis de l'utilisateur a une valeur comprise entre 1 et 2 dans la colonne stars (qui évalue l'entreprise sur une échelle de 1 à 5), la colonne reviews_score aura une valeur de chaîne négative. Si la note est comprise entre 3 et 5 dans la colonne stars, la colonne reviews_score contiendra une valeur positive. Cela fait de notre problème un problème de classification binaire.\n"
      ],
      "metadata": {
        "id": "Ybug82BvgvGr"
      }
    },
    {
      "cell_type": "code",
      "source": [
        "yelp_reviews.drop_duplicates(inplace=True)\n",
        "yelp_reviews.drop([6739, 4112, 6189, 13479, 4672, 10120, 7504, 7421, 13351], inplace = True)\n",
        "yelp_reviews.dropna(inplace  = True)\n",
        "yelp_reviews.isna().sum()"
      ],
      "metadata": {
        "colab": {
          "base_uri": "https://localhost:8080/"
        },
        "id": "MqIhfGbp3wEn",
        "outputId": "90a6f9fe-cd0f-49d6-f55b-d1a69988dbc6"
      },
      "execution_count": 28,
      "outputs": [
        {
          "output_type": "execute_result",
          "data": {
            "text/plain": [
              "airline_sentiment    0\n",
              "text                 0\n",
              "dtype: int64"
            ]
          },
          "metadata": {},
          "execution_count": 28
        }
      ]
    },
    {
      "cell_type": "code",
      "source": [
        "yelp_reviews.head(10)"
      ],
      "metadata": {
        "colab": {
          "base_uri": "https://localhost:8080/",
          "height": 363
        },
        "id": "N3a1YXi44_M0",
        "outputId": "4d13d9d4-8ced-412a-8923-68445f9289e9"
      },
      "execution_count": 29,
      "outputs": [
        {
          "output_type": "execute_result",
          "data": {
            "text/plain": [
              "   airline_sentiment                                               text\n",
              "0            neutral                @VirginAmerica What @dhepburn said.\n",
              "1           positive  @VirginAmerica plus you've added commercials t...\n",
              "2            neutral  @VirginAmerica I didn't today... Must mean I n...\n",
              "3           negative  @VirginAmerica it's really aggressive to blast...\n",
              "4           negative  @VirginAmerica and it's a really big bad thing...\n",
              "5           negative  @VirginAmerica seriously would pay $30 a fligh...\n",
              "7           positive  @VirginAmerica yes, nearly every time I fly VX...\n",
              "8            neutral  @VirginAmerica Really missed a prime opportuni...\n",
              "9           positive    @virginamerica Well, I didn't…but NOW I DO! :-D\n",
              "10          positive  @VirginAmerica it was amazing, and arrived an ..."
            ],
            "text/html": [
              "\n",
              "  <div id=\"df-711038a1-a13e-49c4-b3db-12a995b80d0f\">\n",
              "    <div class=\"colab-df-container\">\n",
              "      <div>\n",
              "<style scoped>\n",
              "    .dataframe tbody tr th:only-of-type {\n",
              "        vertical-align: middle;\n",
              "    }\n",
              "\n",
              "    .dataframe tbody tr th {\n",
              "        vertical-align: top;\n",
              "    }\n",
              "\n",
              "    .dataframe thead th {\n",
              "        text-align: right;\n",
              "    }\n",
              "</style>\n",
              "<table border=\"1\" class=\"dataframe\">\n",
              "  <thead>\n",
              "    <tr style=\"text-align: right;\">\n",
              "      <th></th>\n",
              "      <th>airline_sentiment</th>\n",
              "      <th>text</th>\n",
              "    </tr>\n",
              "  </thead>\n",
              "  <tbody>\n",
              "    <tr>\n",
              "      <th>0</th>\n",
              "      <td>neutral</td>\n",
              "      <td>@VirginAmerica What @dhepburn said.</td>\n",
              "    </tr>\n",
              "    <tr>\n",
              "      <th>1</th>\n",
              "      <td>positive</td>\n",
              "      <td>@VirginAmerica plus you've added commercials t...</td>\n",
              "    </tr>\n",
              "    <tr>\n",
              "      <th>2</th>\n",
              "      <td>neutral</td>\n",
              "      <td>@VirginAmerica I didn't today... Must mean I n...</td>\n",
              "    </tr>\n",
              "    <tr>\n",
              "      <th>3</th>\n",
              "      <td>negative</td>\n",
              "      <td>@VirginAmerica it's really aggressive to blast...</td>\n",
              "    </tr>\n",
              "    <tr>\n",
              "      <th>4</th>\n",
              "      <td>negative</td>\n",
              "      <td>@VirginAmerica and it's a really big bad thing...</td>\n",
              "    </tr>\n",
              "    <tr>\n",
              "      <th>5</th>\n",
              "      <td>negative</td>\n",
              "      <td>@VirginAmerica seriously would pay $30 a fligh...</td>\n",
              "    </tr>\n",
              "    <tr>\n",
              "      <th>7</th>\n",
              "      <td>positive</td>\n",
              "      <td>@VirginAmerica yes, nearly every time I fly VX...</td>\n",
              "    </tr>\n",
              "    <tr>\n",
              "      <th>8</th>\n",
              "      <td>neutral</td>\n",
              "      <td>@VirginAmerica Really missed a prime opportuni...</td>\n",
              "    </tr>\n",
              "    <tr>\n",
              "      <th>9</th>\n",
              "      <td>positive</td>\n",
              "      <td>@virginamerica Well, I didn't…but NOW I DO! :-D</td>\n",
              "    </tr>\n",
              "    <tr>\n",
              "      <th>10</th>\n",
              "      <td>positive</td>\n",
              "      <td>@VirginAmerica it was amazing, and arrived an ...</td>\n",
              "    </tr>\n",
              "  </tbody>\n",
              "</table>\n",
              "</div>\n",
              "      <button class=\"colab-df-convert\" onclick=\"convertToInteractive('df-711038a1-a13e-49c4-b3db-12a995b80d0f')\"\n",
              "              title=\"Convert this dataframe to an interactive table.\"\n",
              "              style=\"display:none;\">\n",
              "        \n",
              "  <svg xmlns=\"http://www.w3.org/2000/svg\" height=\"24px\"viewBox=\"0 0 24 24\"\n",
              "       width=\"24px\">\n",
              "    <path d=\"M0 0h24v24H0V0z\" fill=\"none\"/>\n",
              "    <path d=\"M18.56 5.44l.94 2.06.94-2.06 2.06-.94-2.06-.94-.94-2.06-.94 2.06-2.06.94zm-11 1L8.5 8.5l.94-2.06 2.06-.94-2.06-.94L8.5 2.5l-.94 2.06-2.06.94zm10 10l.94 2.06.94-2.06 2.06-.94-2.06-.94-.94-2.06-.94 2.06-2.06.94z\"/><path d=\"M17.41 7.96l-1.37-1.37c-.4-.4-.92-.59-1.43-.59-.52 0-1.04.2-1.43.59L10.3 9.45l-7.72 7.72c-.78.78-.78 2.05 0 2.83L4 21.41c.39.39.9.59 1.41.59.51 0 1.02-.2 1.41-.59l7.78-7.78 2.81-2.81c.8-.78.8-2.07 0-2.86zM5.41 20L4 18.59l7.72-7.72 1.47 1.35L5.41 20z\"/>\n",
              "  </svg>\n",
              "      </button>\n",
              "      \n",
              "  <style>\n",
              "    .colab-df-container {\n",
              "      display:flex;\n",
              "      flex-wrap:wrap;\n",
              "      gap: 12px;\n",
              "    }\n",
              "\n",
              "    .colab-df-convert {\n",
              "      background-color: #E8F0FE;\n",
              "      border: none;\n",
              "      border-radius: 50%;\n",
              "      cursor: pointer;\n",
              "      display: none;\n",
              "      fill: #1967D2;\n",
              "      height: 32px;\n",
              "      padding: 0 0 0 0;\n",
              "      width: 32px;\n",
              "    }\n",
              "\n",
              "    .colab-df-convert:hover {\n",
              "      background-color: #E2EBFA;\n",
              "      box-shadow: 0px 1px 2px rgba(60, 64, 67, 0.3), 0px 1px 3px 1px rgba(60, 64, 67, 0.15);\n",
              "      fill: #174EA6;\n",
              "    }\n",
              "\n",
              "    [theme=dark] .colab-df-convert {\n",
              "      background-color: #3B4455;\n",
              "      fill: #D2E3FC;\n",
              "    }\n",
              "\n",
              "    [theme=dark] .colab-df-convert:hover {\n",
              "      background-color: #434B5C;\n",
              "      box-shadow: 0px 1px 3px 1px rgba(0, 0, 0, 0.15);\n",
              "      filter: drop-shadow(0px 1px 2px rgba(0, 0, 0, 0.3));\n",
              "      fill: #FFFFFF;\n",
              "    }\n",
              "  </style>\n",
              "\n",
              "      <script>\n",
              "        const buttonEl =\n",
              "          document.querySelector('#df-711038a1-a13e-49c4-b3db-12a995b80d0f button.colab-df-convert');\n",
              "        buttonEl.style.display =\n",
              "          google.colab.kernel.accessAllowed ? 'block' : 'none';\n",
              "\n",
              "        async function convertToInteractive(key) {\n",
              "          const element = document.querySelector('#df-711038a1-a13e-49c4-b3db-12a995b80d0f');\n",
              "          const dataTable =\n",
              "            await google.colab.kernel.invokeFunction('convertToInteractive',\n",
              "                                                     [key], {});\n",
              "          if (!dataTable) return;\n",
              "\n",
              "          const docLinkHtml = 'Like what you see? Visit the ' +\n",
              "            '<a target=\"_blank\" href=https://colab.research.google.com/notebooks/data_table.ipynb>data table notebook</a>'\n",
              "            + ' to learn more about interactive tables.';\n",
              "          element.innerHTML = '';\n",
              "          dataTable['output_type'] = 'display_data';\n",
              "          await google.colab.output.renderOutput(dataTable, element);\n",
              "          const docLink = document.createElement('div');\n",
              "          docLink.innerHTML = docLinkHtml;\n",
              "          element.appendChild(docLink);\n",
              "        }\n",
              "      </script>\n",
              "    </div>\n",
              "  </div>\n",
              "  "
            ]
          },
          "metadata": {},
          "execution_count": 29
        }
      ]
    },
    {
      "cell_type": "markdown",
      "source": [],
      "metadata": {
        "id": "oGmyC2CFhimJ"
      }
    },
    {
      "cell_type": "markdown",
      "source": [
        "**Installation de FastText**"
      ],
      "metadata": {
        "id": "sb3_qnyVEppt"
      }
    },
    {
      "cell_type": "code",
      "source": [
        "!wget https://github.com/facebookresearch/fastText/archive/v0.1.0.zip"
      ],
      "metadata": {
        "colab": {
          "base_uri": "https://localhost:8080/"
        },
        "id": "0mIhrjVNhiyh",
        "outputId": "591bd522-d59d-4cba-86c7-987bb8cb953e"
      },
      "execution_count": 30,
      "outputs": [
        {
          "output_type": "stream",
          "name": "stdout",
          "text": [
            "--2023-06-15 08:57:23--  https://github.com/facebookresearch/fastText/archive/v0.1.0.zip\n",
            "Resolving github.com (github.com)... 140.82.112.4\n",
            "Connecting to github.com (github.com)|140.82.112.4|:443... connected.\n",
            "HTTP request sent, awaiting response... 302 Found\n",
            "Location: https://codeload.github.com/facebookresearch/fastText/zip/refs/tags/v0.1.0 [following]\n",
            "--2023-06-15 08:57:23--  https://codeload.github.com/facebookresearch/fastText/zip/refs/tags/v0.1.0\n",
            "Resolving codeload.github.com (codeload.github.com)... 140.82.113.9\n",
            "Connecting to codeload.github.com (codeload.github.com)|140.82.113.9|:443... connected.\n",
            "HTTP request sent, awaiting response... 200 OK\n",
            "Length: unspecified [application/zip]\n",
            "Saving to: ‘v0.1.0.zip’\n",
            "\n",
            "\rv0.1.0.zip              [<=>                 ]       0  --.-KB/s               \rv0.1.0.zip              [ <=>                ]  92.06K  --.-KB/s    in 0.04s   \n",
            "\n",
            "2023-06-15 08:57:24 (2.46 MB/s) - ‘v0.1.0.zip’ saved [94267]\n",
            "\n"
          ]
        }
      ]
    },
    {
      "cell_type": "markdown",
      "source": [
        "L'étape suivante consiste à décompresser les modules FastText. Tapons simplement la commande suivante :"
      ],
      "metadata": {
        "id": "J_dtYle7iPFi"
      }
    },
    {
      "cell_type": "code",
      "execution_count": 31,
      "metadata": {
        "colab": {
          "base_uri": "https://localhost:8080/"
        },
        "id": "AchgNRwDGlqT",
        "outputId": "ce23a172-d22d-41ff-a683-c7b69d9cf602"
      },
      "outputs": [
        {
          "output_type": "stream",
          "name": "stdout",
          "text": [
            "Archive:  v0.1.0.zip\n",
            "431c9e2a9b5149369cc60fb9f5beba58dcf8ca17\n",
            "   creating: fastText-0.1.0/\n",
            "  inflating: fastText-0.1.0/.gitignore  \n",
            "  inflating: fastText-0.1.0/CONTRIBUTING.md  \n",
            "  inflating: fastText-0.1.0/LICENSE  \n",
            "  inflating: fastText-0.1.0/Makefile  \n",
            "  inflating: fastText-0.1.0/PATENTS  \n",
            "  inflating: fastText-0.1.0/README.md  \n",
            "  inflating: fastText-0.1.0/classification-example.sh  \n",
            "  inflating: fastText-0.1.0/classification-results.sh  \n",
            "  inflating: fastText-0.1.0/eval.py  \n",
            "  inflating: fastText-0.1.0/get-wikimedia.sh  \n",
            "  inflating: fastText-0.1.0/pretrained-vectors.md  \n",
            "  inflating: fastText-0.1.0/quantization-example.sh  \n",
            "  inflating: fastText-0.1.0/quantization-results.sh  \n",
            "   creating: fastText-0.1.0/src/\n",
            "  inflating: fastText-0.1.0/src/args.cc  \n",
            "  inflating: fastText-0.1.0/src/args.h  \n",
            "  inflating: fastText-0.1.0/src/dictionary.cc  \n",
            "  inflating: fastText-0.1.0/src/dictionary.h  \n",
            "  inflating: fastText-0.1.0/src/fasttext.cc  \n",
            "  inflating: fastText-0.1.0/src/fasttext.h  \n",
            "  inflating: fastText-0.1.0/src/main.cc  \n",
            "  inflating: fastText-0.1.0/src/matrix.cc  \n",
            "  inflating: fastText-0.1.0/src/matrix.h  \n",
            "  inflating: fastText-0.1.0/src/model.cc  \n",
            "  inflating: fastText-0.1.0/src/model.h  \n",
            "  inflating: fastText-0.1.0/src/productquantizer.cc  \n",
            "  inflating: fastText-0.1.0/src/productquantizer.h  \n",
            "  inflating: fastText-0.1.0/src/qmatrix.cc  \n",
            "  inflating: fastText-0.1.0/src/qmatrix.h  \n",
            "  inflating: fastText-0.1.0/src/real.h  \n",
            "  inflating: fastText-0.1.0/src/utils.cc  \n",
            "  inflating: fastText-0.1.0/src/utils.h  \n",
            "  inflating: fastText-0.1.0/src/vector.cc  \n",
            "  inflating: fastText-0.1.0/src/vector.h  \n",
            "   creating: fastText-0.1.0/tutorials/\n",
            "  inflating: fastText-0.1.0/tutorials/cbo_vs_skipgram.png  \n",
            "  inflating: fastText-0.1.0/tutorials/supervised-learning.md  \n",
            "  inflating: fastText-0.1.0/tutorials/unsupervised-learning.md  \n",
            "  inflating: fastText-0.1.0/wikifil.pl  \n",
            "  inflating: fastText-0.1.0/word-vector-example.sh  \n"
          ]
        }
      ],
      "source": [
        "!unzip v0.1.0.zip"
      ]
    },
    {
      "cell_type": "markdown",
      "metadata": {
        "id": "PfiJjhxYGLQ2"
      },
      "source": [
        "Ensuite, nous devons naviguer jusqu'au répertoire où nous avons téléchargé FastText, puis exécuter la commande !make pour exécuter les binaires C++. Exécutez les étapes suivantes :"
      ]
    },
    {
      "cell_type": "code",
      "source": [
        "cd fastText-0.1.0"
      ],
      "metadata": {
        "colab": {
          "base_uri": "https://localhost:8080/"
        },
        "id": "-5-YKz6wicIH",
        "outputId": "d9661572-41d2-4239-9ee7-5f2f4c9e73f7"
      },
      "execution_count": 32,
      "outputs": [
        {
          "output_type": "stream",
          "name": "stdout",
          "text": [
            "/content/fastText-0.1.0/fastText-0.1.0\n"
          ]
        }
      ]
    },
    {
      "cell_type": "code",
      "source": [
        "!make"
      ],
      "metadata": {
        "colab": {
          "base_uri": "https://localhost:8080/"
        },
        "id": "954uEqpEj6R5",
        "outputId": "4a6609f3-379b-45b4-8f6f-590001bf590e"
      },
      "execution_count": 33,
      "outputs": [
        {
          "output_type": "stream",
          "name": "stdout",
          "text": [
            "c++ -pthread -std=c++0x -O3 -funroll-loops -c src/args.cc\n",
            "c++ -pthread -std=c++0x -O3 -funroll-loops -c src/dictionary.cc\n",
            "c++ -pthread -std=c++0x -O3 -funroll-loops -c src/productquantizer.cc\n",
            "c++ -pthread -std=c++0x -O3 -funroll-loops -c src/matrix.cc\n",
            "c++ -pthread -std=c++0x -O3 -funroll-loops -c src/qmatrix.cc\n",
            "c++ -pthread -std=c++0x -O3 -funroll-loops -c src/vector.cc\n",
            "c++ -pthread -std=c++0x -O3 -funroll-loops -c src/model.cc\n",
            "c++ -pthread -std=c++0x -O3 -funroll-loops -c src/utils.cc\n",
            "c++ -pthread -std=c++0x -O3 -funroll-loops -c src/fasttext.cc\n",
            "c++ -pthread -std=c++0x -O3 -funroll-loops args.o dictionary.o productquantizer.o matrix.o qmatrix.o vector.o model.o utils.o fasttext.o src/main.cc -o fasttext\n"
          ]
        }
      ]
    },
    {
      "cell_type": "markdown",
      "source": [
        "Pour vérifier l'installation, exécuter:"
      ],
      "metadata": {
        "id": "sOsuPm4ikCL0"
      }
    },
    {
      "cell_type": "code",
      "source": [
        "!./fasttext"
      ],
      "metadata": {
        "colab": {
          "base_uri": "https://localhost:8080/"
        },
        "id": "PFZzAQNBkGES",
        "outputId": "eb36ff03-8fad-40ae-ec62-ea8e4c5a48df"
      },
      "execution_count": 34,
      "outputs": [
        {
          "output_type": "stream",
          "name": "stdout",
          "text": [
            "usage: fasttext <command> <args>\n",
            "\n",
            "The commands supported by fasttext are:\n",
            "\n",
            "  supervised              train a supervised classifier\n",
            "  quantize                quantize a model to reduce the memory usage\n",
            "  test                    evaluate a supervised classifier\n",
            "  predict                 predict most likely labels\n",
            "  predict-prob            predict most likely labels with probabilities\n",
            "  skipgram                train a skipgram model\n",
            "  cbow                    train a cbow model\n",
            "  print-word-vectors      print word vectors given a trained model\n",
            "  print-sentence-vectors  print sentence vectors given a trained model\n",
            "  nn                      query for nearest neighbors\n",
            "  analogies               query for analogies\n",
            "\n"
          ]
        }
      ]
    },
    {
      "cell_type": "markdown",
      "source": [
        "**Classement du texte**\n",
        "\n",
        "Avant de former des modèles FastText pour effectuer une classification de texte, il est pertinent de mentionner que FastText accepte les données dans un format spécial, qui est le suivant :\n",
        "\n",
        "_label_tag This is sentence 1\n",
        "_label_tag2 This is sentence 2.\n",
        "\n",
        "Le script suivant filtre les colonnes **reviews_score** et **text** du jeu de données, puis préfixe __label__ avant toutes les valeurs de la colonne **reviews_score**.\n",
        "\n",
        "De même, le **\\n** et le **\\t** sont remplacés par un **espace** dans la colonne de texte.\n",
        "\n",
        "Enfin, la trame de données mise à jour est écrite sur le disque sous la forme de **yelp_reviews_updated.txt**.\n",
        "\n"
      ],
      "metadata": {
        "id": "BTr3UgcekTpM"
      }
    },
    {
      "cell_type": "code",
      "source": [
        "import pandas as pd\n",
        "from io import StringIO\n",
        "import csv\n",
        "# col = ['airline_sentiment', 'text']\n",
        "\n",
        "# yelp_reviews = yelp_reviews[col]\n",
        "yelp_reviews['airline_sentiment']=['__label__'+ s for s in yelp_reviews['airline_sentiment']]\n",
        "yelp_reviews['text']= yelp_reviews['text'].replace('\\n',' ', regex=True).replace('\\t',' ', regex=True).replace('@',' ', regex=True)\n",
        "yelp_reviews.to_csv(r'/content/yelp_reviews_updated.txt', index=False, sep=' ', header=False, quoting=csv.QUOTE_NONE, quotechar=\"\", escapechar=\" \")"
      ],
      "metadata": {
        "id": "pzkFGZf_lQXO"
      },
      "execution_count": 35,
      "outputs": []
    },
    {
      "cell_type": "code",
      "source": [
        "yelp_reviews.head()"
      ],
      "metadata": {
        "colab": {
          "base_uri": "https://localhost:8080/",
          "height": 206
        },
        "id": "CudSUAB5kofx",
        "outputId": "61c2fd85-c838-4312-88e5-475a54aa6292"
      },
      "execution_count": 36,
      "outputs": [
        {
          "output_type": "execute_result",
          "data": {
            "text/plain": [
              "   airline_sentiment                                               text\n",
              "0   __label__neutral                 VirginAmerica What  dhepburn said.\n",
              "1  __label__positive   VirginAmerica plus you've added commercials t...\n",
              "2   __label__neutral   VirginAmerica I didn't today... Must mean I n...\n",
              "3  __label__negative   VirginAmerica it's really aggressive to blast...\n",
              "4  __label__negative   VirginAmerica and it's a really big bad thing..."
            ],
            "text/html": [
              "\n",
              "  <div id=\"df-0316c442-b291-4238-ad06-ea88c8e6a1fc\">\n",
              "    <div class=\"colab-df-container\">\n",
              "      <div>\n",
              "<style scoped>\n",
              "    .dataframe tbody tr th:only-of-type {\n",
              "        vertical-align: middle;\n",
              "    }\n",
              "\n",
              "    .dataframe tbody tr th {\n",
              "        vertical-align: top;\n",
              "    }\n",
              "\n",
              "    .dataframe thead th {\n",
              "        text-align: right;\n",
              "    }\n",
              "</style>\n",
              "<table border=\"1\" class=\"dataframe\">\n",
              "  <thead>\n",
              "    <tr style=\"text-align: right;\">\n",
              "      <th></th>\n",
              "      <th>airline_sentiment</th>\n",
              "      <th>text</th>\n",
              "    </tr>\n",
              "  </thead>\n",
              "  <tbody>\n",
              "    <tr>\n",
              "      <th>0</th>\n",
              "      <td>__label__neutral</td>\n",
              "      <td>VirginAmerica What  dhepburn said.</td>\n",
              "    </tr>\n",
              "    <tr>\n",
              "      <th>1</th>\n",
              "      <td>__label__positive</td>\n",
              "      <td>VirginAmerica plus you've added commercials t...</td>\n",
              "    </tr>\n",
              "    <tr>\n",
              "      <th>2</th>\n",
              "      <td>__label__neutral</td>\n",
              "      <td>VirginAmerica I didn't today... Must mean I n...</td>\n",
              "    </tr>\n",
              "    <tr>\n",
              "      <th>3</th>\n",
              "      <td>__label__negative</td>\n",
              "      <td>VirginAmerica it's really aggressive to blast...</td>\n",
              "    </tr>\n",
              "    <tr>\n",
              "      <th>4</th>\n",
              "      <td>__label__negative</td>\n",
              "      <td>VirginAmerica and it's a really big bad thing...</td>\n",
              "    </tr>\n",
              "  </tbody>\n",
              "</table>\n",
              "</div>\n",
              "      <button class=\"colab-df-convert\" onclick=\"convertToInteractive('df-0316c442-b291-4238-ad06-ea88c8e6a1fc')\"\n",
              "              title=\"Convert this dataframe to an interactive table.\"\n",
              "              style=\"display:none;\">\n",
              "        \n",
              "  <svg xmlns=\"http://www.w3.org/2000/svg\" height=\"24px\"viewBox=\"0 0 24 24\"\n",
              "       width=\"24px\">\n",
              "    <path d=\"M0 0h24v24H0V0z\" fill=\"none\"/>\n",
              "    <path d=\"M18.56 5.44l.94 2.06.94-2.06 2.06-.94-2.06-.94-.94-2.06-.94 2.06-2.06.94zm-11 1L8.5 8.5l.94-2.06 2.06-.94-2.06-.94L8.5 2.5l-.94 2.06-2.06.94zm10 10l.94 2.06.94-2.06 2.06-.94-2.06-.94-.94-2.06-.94 2.06-2.06.94z\"/><path d=\"M17.41 7.96l-1.37-1.37c-.4-.4-.92-.59-1.43-.59-.52 0-1.04.2-1.43.59L10.3 9.45l-7.72 7.72c-.78.78-.78 2.05 0 2.83L4 21.41c.39.39.9.59 1.41.59.51 0 1.02-.2 1.41-.59l7.78-7.78 2.81-2.81c.8-.78.8-2.07 0-2.86zM5.41 20L4 18.59l7.72-7.72 1.47 1.35L5.41 20z\"/>\n",
              "  </svg>\n",
              "      </button>\n",
              "      \n",
              "  <style>\n",
              "    .colab-df-container {\n",
              "      display:flex;\n",
              "      flex-wrap:wrap;\n",
              "      gap: 12px;\n",
              "    }\n",
              "\n",
              "    .colab-df-convert {\n",
              "      background-color: #E8F0FE;\n",
              "      border: none;\n",
              "      border-radius: 50%;\n",
              "      cursor: pointer;\n",
              "      display: none;\n",
              "      fill: #1967D2;\n",
              "      height: 32px;\n",
              "      padding: 0 0 0 0;\n",
              "      width: 32px;\n",
              "    }\n",
              "\n",
              "    .colab-df-convert:hover {\n",
              "      background-color: #E2EBFA;\n",
              "      box-shadow: 0px 1px 2px rgba(60, 64, 67, 0.3), 0px 1px 3px 1px rgba(60, 64, 67, 0.15);\n",
              "      fill: #174EA6;\n",
              "    }\n",
              "\n",
              "    [theme=dark] .colab-df-convert {\n",
              "      background-color: #3B4455;\n",
              "      fill: #D2E3FC;\n",
              "    }\n",
              "\n",
              "    [theme=dark] .colab-df-convert:hover {\n",
              "      background-color: #434B5C;\n",
              "      box-shadow: 0px 1px 3px 1px rgba(0, 0, 0, 0.15);\n",
              "      filter: drop-shadow(0px 1px 2px rgba(0, 0, 0, 0.3));\n",
              "      fill: #FFFFFF;\n",
              "    }\n",
              "  </style>\n",
              "\n",
              "      <script>\n",
              "        const buttonEl =\n",
              "          document.querySelector('#df-0316c442-b291-4238-ad06-ea88c8e6a1fc button.colab-df-convert');\n",
              "        buttonEl.style.display =\n",
              "          google.colab.kernel.accessAllowed ? 'block' : 'none';\n",
              "\n",
              "        async function convertToInteractive(key) {\n",
              "          const element = document.querySelector('#df-0316c442-b291-4238-ad06-ea88c8e6a1fc');\n",
              "          const dataTable =\n",
              "            await google.colab.kernel.invokeFunction('convertToInteractive',\n",
              "                                                     [key], {});\n",
              "          if (!dataTable) return;\n",
              "\n",
              "          const docLinkHtml = 'Like what you see? Visit the ' +\n",
              "            '<a target=\"_blank\" href=https://colab.research.google.com/notebooks/data_table.ipynb>data table notebook</a>'\n",
              "            + ' to learn more about interactive tables.';\n",
              "          element.innerHTML = '';\n",
              "          dataTable['output_type'] = 'display_data';\n",
              "          await google.colab.output.renderOutput(dataTable, element);\n",
              "          const docLink = document.createElement('div');\n",
              "          docLink.innerHTML = docLinkHtml;\n",
              "          element.appendChild(docLink);\n",
              "        }\n",
              "      </script>\n",
              "    </div>\n",
              "  </div>\n",
              "  "
            ]
          },
          "metadata": {},
          "execution_count": 36
        }
      ]
    },
    {
      "cell_type": "markdown",
      "source": [
        "L'étape suivante consiste à diviser nos données en ensembles d'apprentissage et de test\n",
        "\n",
        "Les 40 000 premiers enregistrements sur 50 000, seront utilisées pour former les données\n",
        "Les 10 000 derniers enregistrements) seront utilisées pour évaluer les performances de l'algorithme"
      ],
      "metadata": {
        "id": "0kNefMXXrP-P"
      }
    },
    {
      "cell_type": "code",
      "source": [
        "!head -n 12000 \"/content/yelp_reviews_updated.txt\" > \"/content/yelp_reviews_train.txt\"\n",
        "!tail -n 2393 \"/content/yelp_reviews_updated.txt\" > \"/content/yelp_reviews_test.txt\""
      ],
      "metadata": {
        "id": "sfaOWCI6rRDP"
      },
      "execution_count": 37,
      "outputs": []
    },
    {
      "cell_type": "markdown",
      "source": [
        "Une fois le script ci-dessus exécuté, le fichier **yelp_reviews_train.txt** sera généré, qui contient les données de formation.\n",
        "\n",
        "De même, le fichier **yelp_reviews_test.txt** nouvellement généré contiendra les données de test.\n",
        "\n",
        "Il est maintenant temps de former notre algorithme de classification de texte FastText.\n",
        "\n",
        "Pour former l'algorithme, nous devons utiliser une commande **supervisée** et lui transmettre le fichier d'entrée. Le nom du modèle est spécifié après le mot-clé -output. Le script ci-dessus se traduira par un modèle de classification de texte formé appelé **model_yelp_reviews.bin**."
      ],
      "metadata": {
        "id": "-0xKAgv9r3Ie"
      }
    },
    {
      "cell_type": "code",
      "source": [
        "%%time\n",
        "!./fasttext supervised -input \"/content/yelp_reviews_train.txt\" -output model_yelp_reviews"
      ],
      "metadata": {
        "colab": {
          "base_uri": "https://localhost:8080/"
        },
        "id": "YpShHCEQr36N",
        "outputId": "e6a53122-3dc6-4778-8a83-facc81ca077f"
      },
      "execution_count": 38,
      "outputs": [
        {
          "output_type": "stream",
          "name": "stdout",
          "text": [
            "\rRead 0M words\n",
            "Number of words:  25625\n",
            "Number of labels: 3\n",
            "Progress: 100.0%  words/sec/thread: 2175107  lr: 0.000000  loss: 0.614832  eta: 0h0m \n",
            "CPU times: user 33.8 ms, sys: 3.53 ms, total: 37.3 ms\n",
            "Wall time: 2.02 s\n"
          ]
        }
      ]
    },
    {
      "cell_type": "code",
      "source": [
        "!ls"
      ],
      "metadata": {
        "colab": {
          "base_uri": "https://localhost:8080/"
        },
        "id": "ik0Jgot8sfbw",
        "outputId": "2016f96a-e917-4df9-b578-8195624c6e5e"
      },
      "execution_count": 39,
      "outputs": [
        {
          "output_type": "stream",
          "name": "stdout",
          "text": [
            "args.o\t\t\t   Makefile\t\t    quantization-results.sh\n",
            "classification-example.sh  matrix.o\t\t    README.md\n",
            "classification-results.sh  model.o\t\t    src\n",
            "CONTRIBUTING.md\t\t   model_yelp_reviews.bin   tutorials\n",
            "dictionary.o\t\t   model_yelp_reviews.vec   utils.o\n",
            "eval.py\t\t\t   PATENTS\t\t    vector.o\n",
            "fasttext\t\t   pretrained-vectors.md    wikifil.pl\n",
            "fasttext.o\t\t   productquantizer.o\t    word-vector-example.sh\n",
            "get-wikimedia.sh\t   qmatrix.o\n",
            "LICENSE\t\t\t   quantization-example.sh\n"
          ]
        }
      ]
    },
    {
      "cell_type": "markdown",
      "source": [
        "Nous pouvons voir le **model_yelp_reviews.bin** dans la liste de documents ci-dessus.\n",
        "\n",
        "Enfin, pour tester le modèle, nous pouvons utiliser la commande **test**. nous devons spécifier le nom du modèle et le fichier de test après la commande de test, comme indiqué ci-dessous :"
      ],
      "metadata": {
        "id": "dxk_6JnqsrG1"
      }
    },
    {
      "cell_type": "code",
      "source": [
        "!./fasttext test model_yelp_reviews.bin \"/content/yelp_reviews_test.txt\""
      ],
      "metadata": {
        "colab": {
          "base_uri": "https://localhost:8080/"
        },
        "id": "bbo9xS9Ls3tJ",
        "outputId": "01681d8a-0566-4035-c0d5-c56e53f929a2"
      },
      "execution_count": 40,
      "outputs": [
        {
          "output_type": "stream",
          "name": "stdout",
          "text": [
            "N\t2393\n",
            "P@1\t0.817\n",
            "R@1\t0.817\n",
            "Number of examples: 2393\n"
          ]
        }
      ]
    },
    {
      "cell_type": "markdown",
      "source": [
        "Ici, **P@1** fait référence à **la précision** et **R@1** au **Recall**. Nous pouvons voir que notre modèle atteint une précision et un Racall de **0,909**, ce qui est plutôt bon.\n",
        "\n",
        "Essayons maintenant de nettoyer notre texte des ponctuations, des caractères spéciaux et de le convertir en minuscules pour améliorer l'uniformité du texte. Le script suivant nettoie la rame :"
      ],
      "metadata": {
        "id": "t9yr5B-7tF_k"
      }
    },
    {
      "cell_type": "code",
      "source": [
        "!cat \"/content/yelp_reviews_train.txt\" | sed -e \"s/\\([.\\!?,’/()]\\)/ \\1 /g\" | tr \"[:upper:]\" \"[:lower:]\" > \"/content/yelp_reviews_train_clean.txt\""
      ],
      "metadata": {
        "id": "sMSyYL-StYg9"
      },
      "execution_count": 41,
      "outputs": []
    },
    {
      "cell_type": "markdown",
      "source": [
        "Et le script suivant nettoie l'ensemble de test"
      ],
      "metadata": {
        "id": "zrfiyCMetzi_"
      }
    },
    {
      "cell_type": "code",
      "source": [
        "!cat \"/content/yelp_reviews_test.txt\" | sed -e \"s/\\([.\\!?,’/()]\\)/ \\1 /g\" | tr \"[:upper:]\" \"[:lower:]\" > \"/content/yelp_reviews_test_clean.txt\""
      ],
      "metadata": {
        "id": "hjNq2DCfuTaZ"
      },
      "execution_count": 42,
      "outputs": []
    },
    {
      "cell_type": "markdown",
      "source": [
        "Maintenant, nous allons entraîner le modèle sur l'ensemble d'entraînement nettoyé :"
      ],
      "metadata": {
        "id": "j6jEkBa_uiFH"
      }
    },
    {
      "cell_type": "code",
      "source": [
        "%%time\n",
        "!./fasttext supervised -input \"/content/yelp_reviews_train_clean.txt\" -output model_yelp_reviews"
      ],
      "metadata": {
        "colab": {
          "base_uri": "https://localhost:8080/"
        },
        "id": "ADs3gI7cujIZ",
        "outputId": "7339156d-a2ce-45ff-dccf-30ac76529f48"
      },
      "execution_count": 24,
      "outputs": [
        {
          "output_type": "stream",
          "name": "stdout",
          "text": [
            "\rRead 0M words\n",
            "Number of words:  15565\n",
            "Number of labels: 3\n",
            "Progress: 100.0%  words/sec/thread: 2642649  lr: 0.000000  loss: 0.604100  eta: 0h0m \n",
            "CPU times: user 27.5 ms, sys: 1.87 ms, total: 29.3 ms\n",
            "Wall time: 1.32 s\n"
          ]
        }
      ]
    },
    {
      "cell_type": "markdown",
      "source": [
        "Et enfin, nous utiliserons le modèle entraîné sur l'ensemble d'apprentissage nettoyé pour faire des prédictions sur l'ensemble de test nettoyé :"
      ],
      "metadata": {
        "id": "nSYRSAB8uyxx"
      }
    },
    {
      "cell_type": "code",
      "source": [
        "!./fasttext test model_yelp_reviews.bin \"/content/yelp_reviews_test_clean.txt\""
      ],
      "metadata": {
        "colab": {
          "base_uri": "https://localhost:8080/"
        },
        "id": "N9T6vo7VuyJK",
        "outputId": "94836f02-87b6-4202-a8c7-9b1f359e0c61"
      },
      "execution_count": 43,
      "outputs": [
        {
          "output_type": "stream",
          "name": "stdout",
          "text": [
            "N\t2393\n",
            "P@1\t0.807\n",
            "R@1\t0.807\n",
            "Number of examples: 2393\n"
          ]
        }
      ]
    },
    {
      "cell_type": "markdown",
      "source": [
        "Nous pouvons voir une légère augmentation de la précision et du rappel. Pour améliorer encore le modèle, nous pouvons augmenter les époques et le taux d'apprentissage du modèle. Le script suivant définit le nombre d'époques sur 30 et le taux d'apprentissage sur 0,5."
      ],
      "metadata": {
        "id": "HNyXGcFSvF-8"
      }
    },
    {
      "cell_type": "code",
      "source": [
        "%%time\n",
        "!./fasttext supervised -input \"/content/yelp_reviews_train_clean.txt\" -output model_yelp_reviews -epoch 30 -lr 0.5"
      ],
      "metadata": {
        "colab": {
          "base_uri": "https://localhost:8080/"
        },
        "id": "ud9mTODUvG5w",
        "outputId": "09d17a7e-352a-46b4-97ee-41fbdd26c63e"
      },
      "execution_count": 44,
      "outputs": [
        {
          "output_type": "stream",
          "name": "stdout",
          "text": [
            "\rRead 0M words\n",
            "Number of words:  15565\n",
            "Number of labels: 3\n",
            "Progress: 100.0%  words/sec/thread: 2717613  lr: 0.000000  loss: 0.263495  eta: 0h0m \n",
            "CPU times: user 73.4 ms, sys: 3.78 ms, total: 77.2 ms\n",
            "Wall time: 2.69 s\n"
          ]
        }
      ]
    },
    {
      "cell_type": "markdown",
      "source": [
        "Nous pouvons essayer différents nombres et voir si vous pouvez obtenir de meilleurs résultats."
      ],
      "metadata": {
        "id": "x4llw06EwJhi"
      }
    },
    {
      "cell_type": "markdown",
      "source": [
        "**Conclusion:**\n",
        "\n",
        "Le modèle FastText s'est récemment révélé à la pointe de la technologie pour les incorporations de mots et les tâches de classification de texte sur de nombreux ensembles de données. Il est très facile à utiliser et rapide  par rapport aux autres modèles d'intégration de mots.\n"
      ],
      "metadata": {
        "id": "PLmBoTRdwTTU"
      }
    },
    {
      "cell_type": "markdown",
      "source": [],
      "metadata": {
        "id": "Dg_vJ7nvDaex"
      }
    }
  ],
  "metadata": {
    "colab": {
      "provenance": []
    },
    "kernelspec": {
      "display_name": "Python 3",
      "name": "python3"
    },
    "language_info": {
      "name": "python"
    }
  },
  "nbformat": 4,
  "nbformat_minor": 0
}